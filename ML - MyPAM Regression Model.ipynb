{
 "cells": [
  {
   "cell_type": "code",
   "execution_count": 5,
   "metadata": {},
   "outputs": [
    {
     "name": "stdout",
     "output_type": "stream",
     "text": [
      "Note: you may need to restart the kernel to use updated packages.\n"
     ]
    }
   ],
   "source": [
    "pip install -q seaborn"
   ]
  },
  {
   "cell_type": "code",
   "execution_count": 2,
   "metadata": {},
   "outputs": [
    {
     "name": "stdout",
     "output_type": "stream",
     "text": [
      "Note: you may need to restart the kernel to use updated packages.\n"
     ]
    }
   ],
   "source": [
    "pip install -q git+https://github.com/tensorflow/docs"
   ]
  },
  {
   "cell_type": "code",
   "execution_count": 3,
   "metadata": {},
   "outputs": [
    {
     "name": "stdout",
     "output_type": "stream",
     "text": [
      "Collecting tf-nightly\n",
      "  Downloading tf_nightly-2.2.0.dev20200417-cp36-cp36m-win_amd64.whl (108.3 MB)\n",
      "Requirement already satisfied: google-pasta>=0.1.8 in c:\\users\\lillis\\anaconda3\\envs\\py36\\lib\\site-packages (from tf-nightly) (0.2.0)\n",
      "Requirement already satisfied: numpy<2.0,>=1.16.0 in c:\\users\\lillis\\anaconda3\\envs\\py36\\lib\\site-packages (from tf-nightly) (1.18.1)\n",
      "Requirement already satisfied: opt-einsum>=2.3.2 in c:\\users\\lillis\\anaconda3\\envs\\py36\\lib\\site-packages (from tf-nightly) (3.1.0)\n",
      "Requirement already satisfied: wheel>=0.26; python_version >= \"3\" in c:\\users\\lillis\\anaconda3\\envs\\py36\\lib\\site-packages (from tf-nightly) (0.34.2)\n",
      "Collecting gast==0.3.3\n",
      "  Using cached gast-0.3.3-py2.py3-none-any.whl (9.7 kB)\n",
      "Requirement already satisfied: protobuf>=3.9.2 in c:\\users\\lillis\\anaconda3\\envs\\py36\\lib\\site-packages (from tf-nightly) (3.11.4)\n",
      "Requirement already satisfied: scipy==1.4.1; python_version >= \"3\" in c:\\users\\lillis\\anaconda3\\envs\\py36\\lib\\site-packages (from tf-nightly) (1.4.1)\n",
      "Requirement already satisfied: grpcio>=1.8.6 in c:\\users\\lillis\\anaconda3\\envs\\py36\\lib\\site-packages (from tf-nightly) (1.27.2)\n",
      "Collecting tf-estimator-nightly\n",
      "  Downloading tf_estimator_nightly-2.3.0.dev2020041701-py2.py3-none-any.whl (455 kB)\n",
      "Requirement already satisfied: wrapt>=1.11.1 in c:\\users\\lillis\\anaconda3\\envs\\py36\\lib\\site-packages (from tf-nightly) (1.12.1)\n",
      "Requirement already satisfied: termcolor>=1.1.0 in c:\\users\\lillis\\anaconda3\\envs\\py36\\lib\\site-packages (from tf-nightly) (1.1.0)\n",
      "Collecting tb-nightly<2.4.0a0,>=2.3.0a0\n",
      "  Using cached tb_nightly-2.3.0a20200416-py3-none-any.whl (3.0 MB)\n",
      "Requirement already satisfied: h5py<2.11.0,>=2.10.0 in c:\\users\\lillis\\anaconda3\\envs\\py36\\lib\\site-packages (from tf-nightly) (2.10.0)\n",
      "Requirement already satisfied: keras-preprocessing>=1.1.0 in c:\\users\\lillis\\anaconda3\\envs\\py36\\lib\\site-packages (from tf-nightly) (1.1.0)\n",
      "Collecting astunparse==1.6.3\n",
      "  Using cached astunparse-1.6.3-py2.py3-none-any.whl (12 kB)\n",
      "Requirement already satisfied: absl-py>=0.7.0 in c:\\users\\lillis\\anaconda3\\envs\\py36\\lib\\site-packages (from tf-nightly) (0.9.0)\n",
      "Requirement already satisfied: six>=1.12.0 in c:\\users\\lillis\\anaconda3\\envs\\py36\\lib\\site-packages (from tf-nightly) (1.14.0)\n",
      "Requirement already satisfied: setuptools in c:\\users\\lillis\\anaconda3\\envs\\py36\\lib\\site-packages (from protobuf>=3.9.2->tf-nightly) (46.1.3.post20200330)\n",
      "Collecting tensorboard-plugin-wit>=1.6.0\n",
      "  Using cached tensorboard_plugin_wit-1.6.0.post3-py3-none-any.whl (777 kB)\n",
      "Requirement already satisfied: google-auth-oauthlib<0.5,>=0.4.1 in c:\\users\\lillis\\anaconda3\\envs\\py36\\lib\\site-packages (from tb-nightly<2.4.0a0,>=2.3.0a0->tf-nightly) (0.4.1)\n",
      "Requirement already satisfied: requests<3,>=2.21.0 in c:\\users\\lillis\\anaconda3\\envs\\py36\\lib\\site-packages (from tb-nightly<2.4.0a0,>=2.3.0a0->tf-nightly) (2.23.0)\n",
      "Requirement already satisfied: google-auth<2,>=1.6.3 in c:\\users\\lillis\\anaconda3\\envs\\py36\\lib\\site-packages (from tb-nightly<2.4.0a0,>=2.3.0a0->tf-nightly) (1.13.1)\n",
      "Requirement already satisfied: werkzeug>=0.11.15 in c:\\users\\lillis\\anaconda3\\envs\\py36\\lib\\site-packages (from tb-nightly<2.4.0a0,>=2.3.0a0->tf-nightly) (0.16.1)\n",
      "Requirement already satisfied: markdown>=2.6.8 in c:\\users\\lillis\\anaconda3\\envs\\py36\\lib\\site-packages (from tb-nightly<2.4.0a0,>=2.3.0a0->tf-nightly) (3.1.1)\n",
      "Requirement already satisfied: requests-oauthlib>=0.7.0 in c:\\users\\lillis\\anaconda3\\envs\\py36\\lib\\site-packages (from google-auth-oauthlib<0.5,>=0.4.1->tb-nightly<2.4.0a0,>=2.3.0a0->tf-nightly) (1.3.0)\n",
      "Requirement already satisfied: certifi>=2017.4.17 in c:\\users\\lillis\\anaconda3\\envs\\py36\\lib\\site-packages (from requests<3,>=2.21.0->tb-nightly<2.4.0a0,>=2.3.0a0->tf-nightly) (2020.4.5.1)\n",
      "Requirement already satisfied: idna<3,>=2.5 in c:\\users\\lillis\\anaconda3\\envs\\py36\\lib\\site-packages (from requests<3,>=2.21.0->tb-nightly<2.4.0a0,>=2.3.0a0->tf-nightly) (2.9)\n",
      "Requirement already satisfied: chardet<4,>=3.0.2 in c:\\users\\lillis\\anaconda3\\envs\\py36\\lib\\site-packages (from requests<3,>=2.21.0->tb-nightly<2.4.0a0,>=2.3.0a0->tf-nightly) (3.0.4)\n",
      "Requirement already satisfied: urllib3!=1.25.0,!=1.25.1,<1.26,>=1.21.1 in c:\\users\\lillis\\anaconda3\\envs\\py36\\lib\\site-packages (from requests<3,>=2.21.0->tb-nightly<2.4.0a0,>=2.3.0a0->tf-nightly) (1.25.8)\n",
      "Requirement already satisfied: rsa<4.1,>=3.1.4 in c:\\users\\lillis\\anaconda3\\envs\\py36\\lib\\site-packages (from google-auth<2,>=1.6.3->tb-nightly<2.4.0a0,>=2.3.0a0->tf-nightly) (4.0)\n",
      "Requirement already satisfied: pyasn1-modules>=0.2.1 in c:\\users\\lillis\\anaconda3\\envs\\py36\\lib\\site-packages (from google-auth<2,>=1.6.3->tb-nightly<2.4.0a0,>=2.3.0a0->tf-nightly) (0.2.7)\n",
      "Requirement already satisfied: cachetools<5.0,>=2.0.0 in c:\\users\\lillis\\anaconda3\\envs\\py36\\lib\\site-packages (from google-auth<2,>=1.6.3->tb-nightly<2.4.0a0,>=2.3.0a0->tf-nightly) (3.1.1)\n",
      "Requirement already satisfied: oauthlib>=3.0.0 in c:\\users\\lillis\\anaconda3\\envs\\py36\\lib\\site-packages (from requests-oauthlib>=0.7.0->google-auth-oauthlib<0.5,>=0.4.1->tb-nightly<2.4.0a0,>=2.3.0a0->tf-nightly) (3.1.0)\n",
      "Requirement already satisfied: pyasn1>=0.1.3 in c:\\users\\lillis\\anaconda3\\envs\\py36\\lib\\site-packages (from rsa<4.1,>=3.1.4->google-auth<2,>=1.6.3->tb-nightly<2.4.0a0,>=2.3.0a0->tf-nightly) (0.4.8)\n",
      "Installing collected packages: gast, tf-estimator-nightly, tensorboard-plugin-wit, tb-nightly, astunparse, tf-nightly\n",
      "Successfully installed astunparse-1.6.3 gast-0.3.3 tb-nightly-2.3.0a20200416 tensorboard-plugin-wit-1.6.0.post3 tf-estimator-nightly-2.3.0.dev2020041701 tf-nightly-2.2.0.dev20200417\n",
      "Note: you may need to restart the kernel to use updated packages.\n"
     ]
    },
    {
     "name": "stderr",
     "output_type": "stream",
     "text": [
      "ERROR: tensorflow 2.1.0 has requirement gast==0.2.2, but you'll have gast 0.3.3 which is incompatible.\n",
      "  WARNING: The script tensorboard.exe is installed in 'C:\\Users\\Lillis\\AppData\\Roaming\\Python\\Python36\\Scripts' which is not on PATH.\n",
      "  Consider adding this directory to PATH or, if you prefer to suppress this warning, use --no-warn-script-location.\n",
      "  WARNING: The scripts estimator_ckpt_converter.exe, saved_model_cli.exe, tf_upgrade_v2.exe, tflite_convert.exe, toco.exe and toco_from_protos.exe are installed in 'C:\\Users\\Lillis\\AppData\\Roaming\\Python\\Python36\\Scripts' which is not on PATH.\n",
      "  Consider adding this directory to PATH or, if you prefer to suppress this warning, use --no-warn-script-location.\n"
     ]
    }
   ],
   "source": [
    "pip install tf-nightly --user"
   ]
  },
  {
   "cell_type": "code",
   "execution_count": 4,
   "metadata": {},
   "outputs": [
    {
     "name": "stdout",
     "output_type": "stream",
     "text": [
      "Collecting keras\n",
      "  Downloading Keras-2.3.1-py2.py3-none-any.whl (377 kB)\n",
      "Requirement already satisfied: pyyaml in c:\\users\\lillis\\anaconda3\\envs\\py36\\lib\\site-packages (from keras) (5.3.1)\n",
      "Requirement already satisfied: numpy>=1.9.1 in c:\\users\\lillis\\anaconda3\\envs\\py36\\lib\\site-packages (from keras) (1.18.1)\n",
      "Requirement already satisfied: keras-preprocessing>=1.0.5 in c:\\users\\lillis\\anaconda3\\envs\\py36\\lib\\site-packages (from keras) (1.1.0)\n",
      "Requirement already satisfied: keras-applications>=1.0.6 in c:\\users\\lillis\\anaconda3\\envs\\py36\\lib\\site-packages (from keras) (1.0.8)\n",
      "Requirement already satisfied: h5py in c:\\users\\lillis\\anaconda3\\envs\\py36\\lib\\site-packages (from keras) (2.10.0)\n",
      "Requirement already satisfied: scipy>=0.14 in c:\\users\\lillis\\anaconda3\\envs\\py36\\lib\\site-packages (from keras) (1.4.1)\n",
      "Requirement already satisfied: six>=1.9.0 in c:\\users\\lillis\\anaconda3\\envs\\py36\\lib\\site-packages (from keras) (1.14.0)\n",
      "Installing collected packages: keras\n",
      "Successfully installed keras-2.3.1\n",
      "Note: you may need to restart the kernel to use updated packages.\n"
     ]
    }
   ],
   "source": [
    "pip install keras"
   ]
  },
  {
   "cell_type": "code",
   "execution_count": 71,
   "metadata": {},
   "outputs": [],
   "source": [
    "import pathlib\n",
    "import matplotlib.pyplot as plt\n",
    "import numpy as np\n",
    "import pandas as pd\n",
    "import seaborn as sns"
   ]
  },
  {
   "cell_type": "code",
   "execution_count": 72,
   "metadata": {},
   "outputs": [
    {
     "name": "stdout",
     "output_type": "stream",
     "text": [
      "2.2.0-dev20200417\n"
     ]
    }
   ],
   "source": [
    "import tensorflow as tf\n",
    "\n",
    "from tensorflow import keras\n",
    "from tensorflow.keras import layers\n",
    "\n",
    "print(tf.__version__)"
   ]
  },
  {
   "cell_type": "code",
   "execution_count": 73,
   "metadata": {},
   "outputs": [],
   "source": [
    "import tensorflow_docs as tfdocs\n",
    "import tensorflow_docs.plots\n",
    "import tensorflow_docs.modeling"
   ]
  },
  {
   "cell_type": "code",
   "execution_count": 74,
   "metadata": {},
   "outputs": [
    {
     "data": {
      "text/plain": [
       "'C:\\\\Users\\\\Lillis\\\\.keras\\\\datasets\\\\Expenses.csv'"
      ]
     },
     "execution_count": 74,
     "metadata": {},
     "output_type": "execute_result"
    }
   ],
   "source": [
    "dataset_path = keras.utils.get_file(\"Expenses.csv\", \"https://www.kaggle.com/trinaghosh346/personal-income-expenditure/download/\")\n",
    "dataset_path"
   ]
  },
  {
   "cell_type": "code",
   "execution_count": 75,
   "metadata": {},
   "outputs": [
    {
     "data": {
      "text/html": [
       "<div>\n",
       "<style scoped>\n",
       "    .dataframe tbody tr th:only-of-type {\n",
       "        vertical-align: middle;\n",
       "    }\n",
       "\n",
       "    .dataframe tbody tr th {\n",
       "        vertical-align: top;\n",
       "    }\n",
       "\n",
       "    .dataframe thead th {\n",
       "        text-align: right;\n",
       "    }\n",
       "</style>\n",
       "<table border=\"1\" class=\"dataframe\">\n",
       "  <thead>\n",
       "    <tr style=\"text-align: right;\">\n",
       "      <th></th>\n",
       "      <th>Date</th>\n",
       "      <th>WeekDay</th>\n",
       "      <th>Amount</th>\n",
       "      <th>Category</th>\n",
       "      <th>Description</th>\n",
       "      <th>Source</th>\n",
       "    </tr>\n",
       "  </thead>\n",
       "  <tbody>\n",
       "    <tr>\n",
       "      <th>1015</th>\n",
       "      <td>9/30/19</td>\n",
       "      <td>Monday</td>\n",
       "      <td>-420</td>\n",
       "      <td>Bills</td>\n",
       "      <td>Rent</td>\n",
       "      <td>Chase Debit Card</td>\n",
       "    </tr>\n",
       "    <tr>\n",
       "      <th>1016</th>\n",
       "      <td>9/30/19</td>\n",
       "      <td>Monday</td>\n",
       "      <td>-19.35</td>\n",
       "      <td>Merchandise</td>\n",
       "      <td>Amazon</td>\n",
       "      <td>American Express Credit Card</td>\n",
       "    </tr>\n",
       "    <tr>\n",
       "      <th>1017</th>\n",
       "      <td>9/30/19</td>\n",
       "      <td>Monday</td>\n",
       "      <td>-16.14</td>\n",
       "      <td>Merchandise</td>\n",
       "      <td>Clothes</td>\n",
       "      <td>American Express Credit Card</td>\n",
       "    </tr>\n",
       "    <tr>\n",
       "      <th>1018</th>\n",
       "      <td>9/30/19</td>\n",
       "      <td>Monday</td>\n",
       "      <td>-10.35</td>\n",
       "      <td>Uber/Lyft</td>\n",
       "      <td>NaN</td>\n",
       "      <td>Chase Debit Card</td>\n",
       "    </tr>\n",
       "    <tr>\n",
       "      <th>1019</th>\n",
       "      <td>9/30/19</td>\n",
       "      <td>Monday</td>\n",
       "      <td>-8.63</td>\n",
       "      <td>Merchandise</td>\n",
       "      <td>Amazon</td>\n",
       "      <td>American Express Credit Card</td>\n",
       "    </tr>\n",
       "  </tbody>\n",
       "</table>\n",
       "</div>"
      ],
      "text/plain": [
       "         Date WeekDay  Amount     Category Description  \\\n",
       "1015  9/30/19  Monday    -420        Bills        Rent   \n",
       "1016  9/30/19  Monday  -19.35  Merchandise      Amazon   \n",
       "1017  9/30/19  Monday  -16.14  Merchandise     Clothes   \n",
       "1018  9/30/19  Monday  -10.35    Uber/Lyft         NaN   \n",
       "1019  9/30/19  Monday   -8.63  Merchandise      Amazon   \n",
       "\n",
       "                            Source  \n",
       "1015              Chase Debit Card  \n",
       "1016  American Express Credit Card  \n",
       "1017  American Express Credit Card  \n",
       "1018              Chase Debit Card  \n",
       "1019  American Express Credit Card  "
      ]
     },
     "execution_count": 75,
     "metadata": {},
     "output_type": "execute_result"
    }
   ],
   "source": [
    "column_names = ['Date','WeekDay','Amount','Category','Description','Source']\n",
    "raw_dataset = pd.read_csv(dataset_path, names=column_names,\n",
    "                      na_values = \"?\", comment='\\t',\n",
    "                      sep=\",\", skipinitialspace=True)\n",
    "\n",
    "dataset = raw_dataset.copy()\n",
    "dataset.tail()"
   ]
  },
  {
   "cell_type": "code",
   "execution_count": 76,
   "metadata": {
    "scrolled": true
   },
   "outputs": [
    {
     "data": {
      "text/plain": [
       "Date             0\n",
       "WeekDay          0\n",
       "Amount           0\n",
       "Category         0\n",
       "Description    513\n",
       "Source           0\n",
       "dtype: int64"
      ]
     },
     "execution_count": 76,
     "metadata": {},
     "output_type": "execute_result"
    }
   ],
   "source": [
    "dataset.isna().sum()"
   ]
  },
  {
   "cell_type": "code",
   "execution_count": 77,
   "metadata": {},
   "outputs": [],
   "source": [
    "dataset = dataset.drop(0)"
   ]
  },
  {
   "cell_type": "code",
   "execution_count": 78,
   "metadata": {},
   "outputs": [],
   "source": [
    "# Separating the date \n",
    "# new data frame with split value columns \n",
    "new = dataset[\"Date\"].str.split(\"/\", n = 2, expand = True) \n",
    "  \n",
    "# making separate column for day \n",
    "dataset[\"Month\"]= pd.to_numeric(new[0]) \n",
    "  \n",
    "# making separate column for month \n",
    "dataset[\"Day\"]= pd.to_numeric(new[1])\n",
    "\n",
    "# making separate column for year\n",
    "dataset[\"Year\"]= pd.to_numeric(new[2]) \n",
    "dataset[\"Entry\"] = pd.to_numeric(dataset.Month+(200000)+(dataset.Year*100))\n"
   ]
  },
  {
   "cell_type": "code",
   "execution_count": 79,
   "metadata": {},
   "outputs": [],
   "source": [
    "#create a column indicating if the amount is a debit or credit \n",
    "dataset.Amount = pd.to_numeric(dataset.Amount)\n",
    "\n",
    "def test(c):\n",
    "  if c[\"Amount\"] < 0:\n",
    "    return 0\n",
    "  else: \n",
    "    return 1\n",
    "\n",
    "dataset[\"Debit\"] = pd.to_numeric(dataset.apply(test, axis=1))"
   ]
  },
  {
   "cell_type": "code",
   "execution_count": 80,
   "metadata": {},
   "outputs": [],
   "source": [
    "#converting values from days of the week\n",
    "weekday = {'Monday': 1,'Tuesday': 2,'Wednesday' :3,'Thursday':4,'Friday' : 5,'Saturday' :6, 'Sunday':7, 'Day of the Week':0} \n",
    "dataset.WeekDay = [weekday[item] for item in dataset.WeekDay]\n",
    "#converting values from categories\n",
    "category = {'Bills': 1,'Groceries': 2,'Merchandise' :3,'Wire Transfer':4,'Travel' : 5,'Pharmacy' :6, 'Food':7, 'Uber/Lyft':8, 'Direct Deposit': 9, 'Tuition': 10, 'Entertainment':11, 'Category':0, 'Other': 12} \n",
    "dataset.Category = [category[item] for item in dataset.Category]"
   ]
  },
  {
   "cell_type": "code",
   "execution_count": 81,
   "metadata": {},
   "outputs": [],
   "source": [
    "dataset = dataset.drop('Source', 1)\n",
    "dataset = dataset.drop('Description', 1)\n",
    "#dataset = dataset.drop('Day',1)\n",
    "dataset = dataset.drop('Month',1)\n",
    "dataset = dataset.drop('Year',1)\n",
    "dataset = dataset.drop('Date',1)\n",
    "\n",
    "dataset = dataset.infer_objects()\n",
    "dataset.dtypes\n",
    "\n",
    "dataset.Amount = abs(pd.to_numeric(dataset.Amount))\n",
    "dataset[\"Week\"]= pd.to_numeric(dataset.WeekDay)\n",
    "dataset = dataset.drop('WeekDay',1)"
   ]
  },
  {
   "cell_type": "code",
   "execution_count": 82,
   "metadata": {},
   "outputs": [
    {
     "data": {
      "text/html": [
       "<div>\n",
       "<style scoped>\n",
       "    .dataframe tbody tr th:only-of-type {\n",
       "        vertical-align: middle;\n",
       "    }\n",
       "\n",
       "    .dataframe tbody tr th {\n",
       "        vertical-align: top;\n",
       "    }\n",
       "\n",
       "    .dataframe thead th {\n",
       "        text-align: right;\n",
       "    }\n",
       "</style>\n",
       "<table border=\"1\" class=\"dataframe\">\n",
       "  <thead>\n",
       "    <tr style=\"text-align: right;\">\n",
       "      <th></th>\n",
       "      <th>Amount</th>\n",
       "      <th>Category</th>\n",
       "      <th>Day</th>\n",
       "      <th>Entry</th>\n",
       "      <th>Debit</th>\n",
       "      <th>Week</th>\n",
       "    </tr>\n",
       "  </thead>\n",
       "  <tbody>\n",
       "    <tr>\n",
       "      <th>1</th>\n",
       "      <td>1360.00</td>\n",
       "      <td>1</td>\n",
       "      <td>3</td>\n",
       "      <td>201808</td>\n",
       "      <td>0</td>\n",
       "      <td>5</td>\n",
       "    </tr>\n",
       "    <tr>\n",
       "      <th>2</th>\n",
       "      <td>117.89</td>\n",
       "      <td>2</td>\n",
       "      <td>4</td>\n",
       "      <td>201808</td>\n",
       "      <td>0</td>\n",
       "      <td>6</td>\n",
       "    </tr>\n",
       "    <tr>\n",
       "      <th>3</th>\n",
       "      <td>34.27</td>\n",
       "      <td>3</td>\n",
       "      <td>4</td>\n",
       "      <td>201808</td>\n",
       "      <td>0</td>\n",
       "      <td>6</td>\n",
       "    </tr>\n",
       "    <tr>\n",
       "      <th>4</th>\n",
       "      <td>21.59</td>\n",
       "      <td>3</td>\n",
       "      <td>4</td>\n",
       "      <td>201808</td>\n",
       "      <td>0</td>\n",
       "      <td>6</td>\n",
       "    </tr>\n",
       "    <tr>\n",
       "      <th>5</th>\n",
       "      <td>10.79</td>\n",
       "      <td>3</td>\n",
       "      <td>5</td>\n",
       "      <td>201808</td>\n",
       "      <td>0</td>\n",
       "      <td>7</td>\n",
       "    </tr>\n",
       "  </tbody>\n",
       "</table>\n",
       "</div>"
      ],
      "text/plain": [
       "    Amount  Category  Day   Entry  Debit  Week\n",
       "1  1360.00         1    3  201808      0     5\n",
       "2   117.89         2    4  201808      0     6\n",
       "3    34.27         3    4  201808      0     6\n",
       "4    21.59         3    4  201808      0     6\n",
       "5    10.79         3    5  201808      0     7"
      ]
     },
     "execution_count": 82,
     "metadata": {},
     "output_type": "execute_result"
    }
   ],
   "source": [
    "dataset.head()"
   ]
  },
  {
   "cell_type": "code",
   "execution_count": 83,
   "metadata": {},
   "outputs": [
    {
     "data": {
      "text/plain": [
       "Entry   Category\n",
       "201808  1            1360.00\n",
       "        2             224.89\n",
       "        3             229.77\n",
       "        4            2500.00\n",
       "        5              70.00\n",
       "                      ...   \n",
       "201909  8             196.95\n",
       "        9            1001.41\n",
       "        10          52258.44\n",
       "        11             95.23\n",
       "        12             23.40\n",
       "Name: Amount, Length: 118, dtype: float64"
      ]
     },
     "execution_count": 83,
     "metadata": {},
     "output_type": "execute_result"
    }
   ],
   "source": [
    "#group the expenses by month and category\n",
    "dataset.groupby(by=[\"Entry\",\"Category\"])[\"Amount\"].sum()"
   ]
  },
  {
   "cell_type": "code",
   "execution_count": 84,
   "metadata": {},
   "outputs": [],
   "source": [
    "dataset = dataset.drop(dataset[dataset.Debit == int(1)].index)"
   ]
  },
  {
   "cell_type": "code",
   "execution_count": 85,
   "metadata": {},
   "outputs": [],
   "source": [
    "dataset = dataset.drop('Debit',1)\n",
    "dataset = dataset.drop('Day',1)\n",
    "dataset = dataset.drop('Week',1)\n",
    "dataset = dataset.drop('Entry',1)"
   ]
  },
  {
   "cell_type": "code",
   "execution_count": 86,
   "metadata": {},
   "outputs": [],
   "source": [
    "train_dataset = dataset.sample(frac=0.8,random_state=0)\n",
    "test_dataset = dataset.drop(train_dataset.index)"
   ]
  },
  {
   "cell_type": "code",
   "execution_count": 87,
   "metadata": {},
   "outputs": [
    {
     "data": {
      "text/plain": [
       "<seaborn.axisgrid.PairGrid at 0x27311b70da0>"
      ]
     },
     "execution_count": 87,
     "metadata": {},
     "output_type": "execute_result"
    },
    {
     "data": {
      "image/png": "[encoded data removed]",
      "text/plain": [
       "<Figure size 360x360 with 6 Axes>"
      ]
     },
     "metadata": {
      "needs_background": "light"
     },
     "output_type": "display_data"
    }
   ],
   "source": [
    "sns.pairplot(train_dataset[[\"Amount\",\"Category\"]], diag_kind=\"kde\")"
   ]
  },
  {
   "cell_type": "code",
   "execution_count": 88,
   "metadata": {},
   "outputs": [
    {
     "data": {
      "text/html": [
       "<div>\n",
       "<style scoped>\n",
       "    .dataframe tbody tr th:only-of-type {\n",
       "        vertical-align: middle;\n",
       "    }\n",
       "\n",
       "    .dataframe tbody tr th {\n",
       "        vertical-align: top;\n",
       "    }\n",
       "\n",
       "    .dataframe thead th {\n",
       "        text-align: right;\n",
       "    }\n",
       "</style>\n",
       "<table border=\"1\" class=\"dataframe\">\n",
       "  <thead>\n",
       "    <tr style=\"text-align: right;\">\n",
       "      <th></th>\n",
       "      <th>count</th>\n",
       "      <th>mean</th>\n",
       "      <th>std</th>\n",
       "      <th>min</th>\n",
       "      <th>25%</th>\n",
       "      <th>50%</th>\n",
       "      <th>75%</th>\n",
       "      <th>max</th>\n",
       "    </tr>\n",
       "  </thead>\n",
       "  <tbody>\n",
       "    <tr>\n",
       "      <th>Amount</th>\n",
       "      <td>714.0</td>\n",
       "      <td>112.583389</td>\n",
       "      <td>1261.772097</td>\n",
       "      <td>0.24</td>\n",
       "      <td>7.75</td>\n",
       "      <td>15.0</td>\n",
       "      <td>32.39</td>\n",
       "      <td>27308.44</td>\n",
       "    </tr>\n",
       "  </tbody>\n",
       "</table>\n",
       "</div>"
      ],
      "text/plain": [
       "        count        mean          std   min   25%   50%    75%       max\n",
       "Amount  714.0  112.583389  1261.772097  0.24  7.75  15.0  32.39  27308.44"
      ]
     },
     "execution_count": 88,
     "metadata": {},
     "output_type": "execute_result"
    }
   ],
   "source": [
    "train_stats = train_dataset.describe()\n",
    "train_stats.pop(\"Category\")\n",
    "train_stats = train_stats.transpose()\n",
    "train_stats"
   ]
  },
  {
   "cell_type": "code",
   "execution_count": 89,
   "metadata": {},
   "outputs": [],
   "source": [
    "train_labels = train_dataset.pop('Category')\n",
    "test_labels = test_dataset.pop('Category')"
   ]
  },
  {
   "cell_type": "code",
   "execution_count": 20,
   "metadata": {},
   "outputs": [
    {
     "data": {
      "text/plain": [
       "Amount      float64\n",
       "Category      int64\n",
       "dtype: object"
      ]
     },
     "execution_count": 20,
     "metadata": {},
     "output_type": "execute_result"
    }
   ],
   "source": [
    "dataset = dataset.infer_objects()\n",
    "dataset.dtypes"
   ]
  },
  {
   "cell_type": "code",
   "execution_count": 21,
   "metadata": {},
   "outputs": [],
   "source": [
    "def norm(x):\n",
    "  return (x - train_stats['mean']) / train_stats['std']\n",
    "normed_train_data = norm(train_dataset)\n",
    "normed_test_data = norm(test_dataset)"
   ]
  },
  {
   "cell_type": "code",
   "execution_count": 54,
   "metadata": {},
   "outputs": [],
   "source": [
    "def build_model():\n",
    "  model = keras.Sequential([\n",
    "    layers.Dense(64, activation='relu', input_shape=[len(train_dataset.keys())]),\n",
    "    layers.Dense(64, activation='relu'),\n",
    "    layers.Dense(1)\n",
    "  ])\n",
    "\n",
    "  optimizer = tf.keras.optimizers.RMSprop(0.001)\n",
    "\n",
    "  model.compile(loss='mse',\n",
    "                optimizer=optimizer,\n",
    "                metrics=['mean_absolute_error', 'mean_squared_error'])\n",
    "\n",
    "\n",
    "  return model"
   ]
  },
  {
   "cell_type": "code",
   "execution_count": 55,
   "metadata": {},
   "outputs": [],
   "source": [
    "model = build_model()"
   ]
  },
  {
   "cell_type": "code",
   "execution_count": 56,
   "metadata": {},
   "outputs": [
    {
     "name": "stdout",
     "output_type": "stream",
     "text": [
      "Model: \"sequential_5\"\n",
      "_________________________________________________________________\n",
      "Layer (type)                 Output Shape              Param #   \n",
      "=================================================================\n",
      "dense_15 (Dense)             (None, 64)                128       \n",
      "_________________________________________________________________\n",
      "dense_16 (Dense)             (None, 64)                4160      \n",
      "_________________________________________________________________\n",
      "dense_17 (Dense)             (None, 1)                 65        \n",
      "=================================================================\n",
      "Total params: 4,353\n",
      "Trainable params: 4,353\n",
      "Non-trainable params: 0\n",
      "_________________________________________________________________\n"
     ]
    }
   ],
   "source": [
    "model.summary()"
   ]
  },
  {
   "cell_type": "code",
   "execution_count": 57,
   "metadata": {},
   "outputs": [
    {
     "name": "stdout",
     "output_type": "stream",
     "text": [
      "WARNING:tensorflow:6 out of the last 6 calls to <function Model.make_predict_function.<locals>.predict_function at 0x000002730F6B92F0> triggered tf.function retracing. Tracing is expensive and the excessive number of tracings could be due to (1) creating @tf.function repeatedly in a loop, (2) passing tensors with different shapes, (3) passing Python objects instead of tensors. For (1), please  define your @tf.function outside of the loop. For (2), @tf.function has experimental_relax_shapes=True option that relaxes argument shapes that can avoid unnecessary retracing. For (3), please refer to https://www.tensorflow.org/tutorials/customization/performance#python_or_tensor_args and https://www.tensorflow.org/api_docs/python/tf/function for  more details.\n"
     ]
    },
    {
     "data": {
      "text/plain": [
       "array([[-0.01399289],\n",
       "       [-0.01311055],\n",
       "       [-0.013819  ],\n",
       "       [-0.01256956],\n",
       "       [-0.0128465 ],\n",
       "       [-0.00939443],\n",
       "       [-0.01371982],\n",
       "       [-0.01419641],\n",
       "       [-0.01241627],\n",
       "       [-0.010792  ]], dtype=float32)"
      ]
     },
     "execution_count": 57,
     "metadata": {},
     "output_type": "execute_result"
    }
   ],
   "source": [
    "example_batch = normed_train_data[:10]\n",
    "example_result = model.predict(example_batch)\n",
    "example_result"
   ]
  },
  {
   "cell_type": "code",
   "execution_count": 58,
   "metadata": {},
   "outputs": [
    {
     "name": "stdout",
     "output_type": "stream",
     "text": [
      "\n",
      "Epoch: 0, loss:29.1826,  mean_absolute_error:4.6483,  mean_squared_error:29.1518,  val_loss:29.7922,  val_mean_absolute_error:4.7295,  val_mean_squared_error:29.7827,  \n",
      "....................................................................................................\n",
      "Epoch: 100, loss:7.0054,  mean_absolute_error:2.3471,  mean_squared_error:7.0235,  val_loss:7.0730,  val_mean_absolute_error:2.3293,  val_mean_squared_error:6.8881,  \n",
      "....................................................................................................\n",
      "Epoch: 200, loss:6.6819,  mean_absolute_error:2.2138,  mean_squared_error:6.6614,  val_loss:6.7452,  val_mean_absolute_error:2.2247,  val_mean_squared_error:6.5926,  \n",
      "....................................................................................................\n",
      "Epoch: 300, loss:6.6911,  mean_absolute_error:2.1964,  mean_squared_error:6.6921,  val_loss:6.7457,  val_mean_absolute_error:2.1938,  val_mean_squared_error:6.6537,  \n",
      "....................................................................................................\n",
      "Epoch: 400, loss:6.6311,  mean_absolute_error:2.1966,  mean_squared_error:6.6355,  val_loss:6.8599,  val_mean_absolute_error:2.1940,  val_mean_squared_error:6.7917,  \n",
      "....................................................................................................\n",
      "Epoch: 500, loss:6.6515,  mean_absolute_error:2.1926,  mean_squared_error:6.6290,  val_loss:6.7663,  val_mean_absolute_error:2.1921,  val_mean_squared_error:6.6859,  \n",
      "....................................................................................................\n",
      "Epoch: 600, loss:6.6818,  mean_absolute_error:2.1939,  mean_squared_error:6.6401,  val_loss:6.8887,  val_mean_absolute_error:2.1903,  val_mean_squared_error:6.8322,  \n",
      "....................................................................................................\n",
      "Epoch: 700, loss:6.5451,  mean_absolute_error:2.1872,  mean_squared_error:6.5588,  val_loss:7.0649,  val_mean_absolute_error:2.1898,  val_mean_squared_error:7.0265,  \n",
      "....................................................................................................\n",
      "Epoch: 800, loss:6.6091,  mean_absolute_error:2.1954,  mean_squared_error:6.5924,  val_loss:6.9155,  val_mean_absolute_error:2.1883,  val_mean_squared_error:6.8654,  \n",
      "....................................................................................................\n",
      "Epoch: 900, loss:6.5871,  mean_absolute_error:2.1895,  mean_squared_error:6.6015,  val_loss:6.7996,  val_mean_absolute_error:2.1850,  val_mean_squared_error:6.7317,  \n",
      "...................................................................................................."
     ]
    }
   ],
   "source": [
    "EPOCHS = 1000\n",
    "\n",
    "history = model.fit(\n",
    "  normed_train_data, train_labels,\n",
    "  epochs=EPOCHS, validation_split = 0.2, verbose=0,\n",
    "  callbacks=[tfdocs.modeling.EpochDots()])"
   ]
  },
  {
   "cell_type": "code",
   "execution_count": 59,
   "metadata": {},
   "outputs": [
    {
     "data": {
      "text/html": [
       "<div>\n",
       "<style scoped>\n",
       "    .dataframe tbody tr th:only-of-type {\n",
       "        vertical-align: middle;\n",
       "    }\n",
       "\n",
       "    .dataframe tbody tr th {\n",
       "        vertical-align: top;\n",
       "    }\n",
       "\n",
       "    .dataframe thead th {\n",
       "        text-align: right;\n",
       "    }\n",
       "</style>\n",
       "<table border=\"1\" class=\"dataframe\">\n",
       "  <thead>\n",
       "    <tr style=\"text-align: right;\">\n",
       "      <th></th>\n",
       "      <th>loss</th>\n",
       "      <th>mean_absolute_error</th>\n",
       "      <th>mean_squared_error</th>\n",
       "      <th>val_loss</th>\n",
       "      <th>val_mean_absolute_error</th>\n",
       "      <th>val_mean_squared_error</th>\n",
       "      <th>epoch</th>\n",
       "    </tr>\n",
       "  </thead>\n",
       "  <tbody>\n",
       "    <tr>\n",
       "      <th>995</th>\n",
       "      <td>6.580622</td>\n",
       "      <td>2.194835</td>\n",
       "      <td>6.585453</td>\n",
       "      <td>6.868747</td>\n",
       "      <td>2.182523</td>\n",
       "      <td>6.816987</td>\n",
       "      <td>995</td>\n",
       "    </tr>\n",
       "    <tr>\n",
       "      <th>996</th>\n",
       "      <td>6.609555</td>\n",
       "      <td>2.188405</td>\n",
       "      <td>6.620222</td>\n",
       "      <td>6.767685</td>\n",
       "      <td>2.182944</td>\n",
       "      <td>6.689724</td>\n",
       "      <td>996</td>\n",
       "    </tr>\n",
       "    <tr>\n",
       "      <th>997</th>\n",
       "      <td>6.535340</td>\n",
       "      <td>2.188392</td>\n",
       "      <td>6.556233</td>\n",
       "      <td>6.761369</td>\n",
       "      <td>2.180135</td>\n",
       "      <td>6.683632</td>\n",
       "      <td>997</td>\n",
       "    </tr>\n",
       "    <tr>\n",
       "      <th>998</th>\n",
       "      <td>6.633740</td>\n",
       "      <td>2.181407</td>\n",
       "      <td>6.590583</td>\n",
       "      <td>6.755887</td>\n",
       "      <td>2.184834</td>\n",
       "      <td>6.665865</td>\n",
       "      <td>998</td>\n",
       "    </tr>\n",
       "    <tr>\n",
       "      <th>999</th>\n",
       "      <td>6.571566</td>\n",
       "      <td>2.191352</td>\n",
       "      <td>6.582506</td>\n",
       "      <td>6.759444</td>\n",
       "      <td>2.180991</td>\n",
       "      <td>6.679270</td>\n",
       "      <td>999</td>\n",
       "    </tr>\n",
       "  </tbody>\n",
       "</table>\n",
       "</div>"
      ],
      "text/plain": [
       "         loss  mean_absolute_error  mean_squared_error  val_loss  \\\n",
       "995  6.580622             2.194835            6.585453  6.868747   \n",
       "996  6.609555             2.188405            6.620222  6.767685   \n",
       "997  6.535340             2.188392            6.556233  6.761369   \n",
       "998  6.633740             2.181407            6.590583  6.755887   \n",
       "999  6.571566             2.191352            6.582506  6.759444   \n",
       "\n",
       "     val_mean_absolute_error  val_mean_squared_error  epoch  \n",
       "995                 2.182523                6.816987    995  \n",
       "996                 2.182944                6.689724    996  \n",
       "997                 2.180135                6.683632    997  \n",
       "998                 2.184834                6.665865    998  \n",
       "999                 2.180991                6.679270    999  "
      ]
     },
     "execution_count": 59,
     "metadata": {},
     "output_type": "execute_result"
    }
   ],
   "source": [
    "hist = pd.DataFrame(history.history)\n",
    "hist['epoch'] = history.epoch\n",
    "hist.tail()"
   ]
  },
  {
   "cell_type": "code",
   "execution_count": 60,
   "metadata": {},
   "outputs": [],
   "source": [
    "plotter = tfdocs.plots.HistoryPlotter(smoothing_std=2)"
   ]
  },
  {
   "cell_type": "code",
   "execution_count": 61,
   "metadata": {},
   "outputs": [
    {
     "data": {
      "text/plain": [
       "Text(0, 0.5, 'MAE [Category]')"
      ]
     },
     "execution_count": 61,
     "metadata": {},
     "output_type": "execute_result"
    },
    {
     "data": {
      "image/png": "[encoded data removed]",
      "text/plain": [
       "<Figure size 432x288 with 1 Axes>"
      ]
     },
     "metadata": {
      "needs_background": "light"
     },
     "output_type": "display_data"
    }
   ],
   "source": [
    "plotter.plot({'Basic': history}, metric = \"mean_absolute_error\")\n",
    "plt.ylim([0, 10])\n",
    "plt.ylabel('MAE [Category]')"
   ]
  },
  {
   "cell_type": "code",
   "execution_count": 62,
   "metadata": {},
   "outputs": [
    {
     "data": {
      "text/plain": [
       "Text(0, 0.5, 'MSE [Category^2]')"
      ]
     },
     "execution_count": 62,
     "metadata": {},
     "output_type": "execute_result"
    },
    {
     "data": {
      "image/png": "[encoded data removed]",
      "text/plain": [
       "<Figure size 432x288 with 1 Axes>"
      ]
     },
     "metadata": {
      "needs_background": "light"
     },
     "output_type": "display_data"
    }
   ],
   "source": [
    "plotter.plot({'Basic': history}, metric = \"mean_squared_error\")\n",
    "plt.ylim([0, 20])\n",
    "plt.ylabel('MSE [Category^2]')"
   ]
  },
  {
   "cell_type": "code",
   "execution_count": 63,
   "metadata": {},
   "outputs": [
    {
     "name": "stdout",
     "output_type": "stream",
     "text": [
      "\n",
      "Epoch: 0, loss:30.3280,  mean_absolute_error:4.7493,  mean_squared_error:30.4002,  val_loss:31.1550,  val_mean_absolute_error:4.8747,  val_mean_squared_error:31.1535,  \n",
      "....................................................................................................\n",
      "Epoch: 100, loss:7.0528,  mean_absolute_error:2.3412,  mean_squared_error:7.0228,  val_loss:7.0331,  val_mean_absolute_error:2.3505,  val_mean_squared_error:6.8306,  \n",
      "................................................................................................"
     ]
    }
   ],
   "source": [
    "model = build_model()\n",
    "\n",
    "# The patience parameter is the amount of epochs to check for improvement\n",
    "early_stop = keras.callbacks.EarlyStopping(monitor='val_loss', patience=10)\n",
    "\n",
    "early_history = model.fit(normed_train_data, train_labels, \n",
    "                    epochs=EPOCHS, validation_split = 0.2, verbose=0, \n",
    "                    callbacks=[early_stop, tfdocs.modeling.EpochDots()])"
   ]
  },
  {
   "cell_type": "code",
   "execution_count": 64,
   "metadata": {},
   "outputs": [
    {
     "data": {
      "text/plain": [
       "Text(0, 0.5, 'MAE [Category]')"
      ]
     },
     "execution_count": 64,
     "metadata": {},
     "output_type": "execute_result"
    },
    {
     "data": {
      "image/png": "[encoded data removed]",
      "text/plain": [
       "<Figure size 432x288 with 1 Axes>"
      ]
     },
     "metadata": {
      "needs_background": "light"
     },
     "output_type": "display_data"
    }
   ],
   "source": [
    "plotter.plot({'Early Stopping': early_history}, metric = \"mean_absolute_error\")\n",
    "plt.ylim([0, 10])\n",
    "plt.ylabel('MAE [Category]')"
   ]
  },
  {
   "cell_type": "code",
   "execution_count": 65,
   "metadata": {},
   "outputs": [
    {
     "name": "stdout",
     "output_type": "stream",
     "text": [
      "6/6 - 0s\n",
      "Testing set Mean Abs Error:  2.13 MPG\n"
     ]
    }
   ],
   "source": [
    "loss, mae, mse = model.evaluate(normed_test_data, test_labels, verbose=2)\n",
    "\n",
    "print(\"Testing set Mean Abs Error: {:5.2f} MPG\".format(mae))"
   ]
  },
  {
   "cell_type": "code",
   "execution_count": 66,
   "metadata": {},
   "outputs": [
    {
     "name": "stdout",
     "output_type": "stream",
     "text": [
      "WARNING:tensorflow:7 out of the last 7 calls to <function Model.make_predict_function.<locals>.predict_function at 0x000002730F902A60> triggered tf.function retracing. Tracing is expensive and the excessive number of tracings could be due to (1) creating @tf.function repeatedly in a loop, (2) passing tensors with different shapes, (3) passing Python objects instead of tensors. For (1), please  define your @tf.function outside of the loop. For (2), @tf.function has experimental_relax_shapes=True option that relaxes argument shapes that can avoid unnecessary retracing. For (3), please refer to https://www.tensorflow.org/tutorials/customization/performance#python_or_tensor_args and https://www.tensorflow.org/api_docs/python/tf/function for  more details.\n"
     ]
    },
    {
     "data": {
      "image/png": "[encoded data removed]",
      "text/plain": [
       "<Figure size 432x288 with 1 Axes>"
      ]
     },
     "metadata": {
      "needs_background": "light"
     },
     "output_type": "display_data"
    }
   ],
   "source": [
    "test_predictions = model.predict(normed_test_data).flatten()\n",
    "\n",
    "a = plt.axes(aspect='equal')\n",
    "plt.scatter(test_labels, test_predictions)\n",
    "plt.xlabel('True Values [Amount]')\n",
    "plt.ylabel('Predictions [Amount]')\n",
    "lims = [0, 50]\n",
    "plt.xlim(lims)\n",
    "plt.ylim(lims)\n",
    "_ = plt.plot(lims, lims)"
   ]
  },
  {
   "cell_type": "code",
   "execution_count": 67,
   "metadata": {},
   "outputs": [
    {
     "data": {
      "image/png": "[encoded data removed]",
      "text/plain": [
       "<Figure size 432x288 with 1 Axes>"
      ]
     },
     "metadata": {
      "needs_background": "light"
     },
     "output_type": "display_data"
    }
   ],
   "source": [
    "error = test_predictions - test_labels\n",
    "plt.hist(error, bins = 25)\n",
    "plt.xlabel(\"Prediction Error [MPG]\")\n",
    "_ = plt.ylabel(\"Count\")"
   ]
  },
  {
   "cell_type": "code",
   "execution_count": 68,
   "metadata": {},
   "outputs": [
    {
     "name": "stdout",
     "output_type": "stream",
     "text": [
      "INFO:tensorflow:Assets written to: saved_model/assets\n"
     ]
    }
   ],
   "source": [
    "export_dir = 'saved_model/'\n",
    "tf.saved_model.save(model, export_dir)"
   ]
  },
  {
   "cell_type": "code",
   "execution_count": 69,
   "metadata": {},
   "outputs": [
    {
     "data": {
      "text/plain": [
       "19132"
      ]
     },
     "execution_count": 69,
     "metadata": {},
     "output_type": "execute_result"
    }
   ],
   "source": [
    "# Converting ConcreteFunctions to a TensorFlow Lite model.\n",
    "# converter = tf.lite.TFLiteConverter.from_concrete_functions(allow_custom_ops=True)\n",
    "#tflite_model = converter.convert()\n",
    "\n",
    "\n",
    "converter = tf.lite.TFLiteConverter.from_saved_model(export_dir)\n",
    "converter.supported_ops = [tf.lite.OpsSet.TFLITE_BUILTINS,\n",
    "                                       tf.lite.OpsSet.SELECT_TF_OPS]\n",
    "converter.allow_custom_ops=True\n",
    "tflite_model = converter.convert()\n",
    "\n",
    "tflite_model_file = pathlib.Path('MyPAMmodel.tflite')\n",
    "tflite_model_file.write_bytes(tflite_model)"
   ]
  },
  {
   "cell_type": "code",
   "execution_count": null,
   "metadata": {},
   "outputs": [],
   "source": []
  }
 ],
 "metadata": {
  "kernelspec": {
   "display_name": "Python 3",
   "language": "python",
   "name": "python3"
  },
  "language_info": {
   "codemirror_mode": {
    "name": "ipython",
    "version": 3
   },
   "file_extension": ".py",
   "mimetype": "text/x-python",
   "name": "python",
   "nbconvert_exporter": "python",
   "pygments_lexer": "ipython3",
   "version": "3.6.10"
  }
 },
 "nbformat": 4,
 "nbformat_minor": 2
}
